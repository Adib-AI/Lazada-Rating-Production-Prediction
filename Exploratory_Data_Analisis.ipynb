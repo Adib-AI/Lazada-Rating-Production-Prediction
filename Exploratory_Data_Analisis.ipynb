{
 "cells": [
  {
   "cell_type": "code",
   "execution_count": 1,
   "metadata": {},
   "outputs": [],
   "source": [
    "import pandas as pd\n",
    "import numpy as np\n",
    "import seaborn as sns\n",
    "import matplotlib.pyplot as plt"
   ]
  },
  {
   "cell_type": "code",
   "execution_count": 2,
   "metadata": {},
   "outputs": [],
   "source": [
    "df = pd.read_csv('Dataset/20191002-items.csv')"
   ]
  },
  {
   "cell_type": "code",
   "execution_count": 3,
   "metadata": {},
   "outputs": [
    {
     "data": {
      "text/html": [
       "<div>\n",
       "<style scoped>\n",
       "    .dataframe tbody tr th:only-of-type {\n",
       "        vertical-align: middle;\n",
       "    }\n",
       "\n",
       "    .dataframe tbody tr th {\n",
       "        vertical-align: top;\n",
       "    }\n",
       "\n",
       "    .dataframe thead th {\n",
       "        text-align: right;\n",
       "    }\n",
       "</style>\n",
       "<table border=\"1\" class=\"dataframe\">\n",
       "  <thead>\n",
       "    <tr style=\"text-align: right;\">\n",
       "      <th></th>\n",
       "      <th>itemId</th>\n",
       "      <th>category</th>\n",
       "      <th>name</th>\n",
       "      <th>brandName</th>\n",
       "      <th>url</th>\n",
       "      <th>price</th>\n",
       "      <th>averageRating</th>\n",
       "      <th>totalReviews</th>\n",
       "      <th>retrievedDate</th>\n",
       "    </tr>\n",
       "  </thead>\n",
       "  <tbody>\n",
       "    <tr>\n",
       "      <th>0</th>\n",
       "      <td>100002528</td>\n",
       "      <td>beli-harddisk-eksternal</td>\n",
       "      <td>TOSHIBA Smart HD LED TV 32\" - 32L5650VJ Free B...</td>\n",
       "      <td>Toshiba</td>\n",
       "      <td>https://www.lazada.co.id/products/toshiba-smar...</td>\n",
       "      <td>2499000</td>\n",
       "      <td>4</td>\n",
       "      <td>8</td>\n",
       "      <td>2019-10-02</td>\n",
       "    </tr>\n",
       "    <tr>\n",
       "      <th>1</th>\n",
       "      <td>100003785</td>\n",
       "      <td>beli-harddisk-eksternal</td>\n",
       "      <td>TOSHIBA Full HD Smart LED TV 40\" - 40L5650VJ -...</td>\n",
       "      <td>Toshiba</td>\n",
       "      <td>https://www.lazada.co.id/products/toshiba-full...</td>\n",
       "      <td>3788000</td>\n",
       "      <td>3</td>\n",
       "      <td>3</td>\n",
       "      <td>2019-10-02</td>\n",
       "    </tr>\n",
       "    <tr>\n",
       "      <th>2</th>\n",
       "      <td>100004132</td>\n",
       "      <td>beli-harddisk-eksternal</td>\n",
       "      <td>Samsung 40 Inch Full HD Flat LED Digital TV 4...</td>\n",
       "      <td>LG</td>\n",
       "      <td>https://www.lazada.co.id/products/samsung-40-i...</td>\n",
       "      <td>3850000</td>\n",
       "      <td>3</td>\n",
       "      <td>2</td>\n",
       "      <td>2019-10-02</td>\n",
       "    </tr>\n",
       "    <tr>\n",
       "      <th>3</th>\n",
       "      <td>100004505</td>\n",
       "      <td>beli-harddisk-eksternal</td>\n",
       "      <td>Sharp HD LED TV 24\" - LC-24LE175I - Hitam</td>\n",
       "      <td>Sharp</td>\n",
       "      <td>https://www.lazada.co.id/products/sharp-hd-led...</td>\n",
       "      <td>1275000</td>\n",
       "      <td>3</td>\n",
       "      <td>11</td>\n",
       "      <td>2019-10-02</td>\n",
       "    </tr>\n",
       "    <tr>\n",
       "      <th>4</th>\n",
       "      <td>100005037</td>\n",
       "      <td>beli-harddisk-eksternal</td>\n",
       "      <td>Lenovo Ideapad 130-15AST LAPTOP MULTIMEDIA I A...</td>\n",
       "      <td>Lenovo</td>\n",
       "      <td>https://www.lazada.co.id/products/lenovo-ideap...</td>\n",
       "      <td>3984100</td>\n",
       "      <td>5</td>\n",
       "      <td>1</td>\n",
       "      <td>2019-10-02</td>\n",
       "    </tr>\n",
       "  </tbody>\n",
       "</table>\n",
       "</div>"
      ],
      "text/plain": [
       "      itemId                 category  \\\n",
       "0  100002528  beli-harddisk-eksternal   \n",
       "1  100003785  beli-harddisk-eksternal   \n",
       "2  100004132  beli-harddisk-eksternal   \n",
       "3  100004505  beli-harddisk-eksternal   \n",
       "4  100005037  beli-harddisk-eksternal   \n",
       "\n",
       "                                                name brandName  \\\n",
       "0  TOSHIBA Smart HD LED TV 32\" - 32L5650VJ Free B...   Toshiba   \n",
       "1  TOSHIBA Full HD Smart LED TV 40\" - 40L5650VJ -...   Toshiba   \n",
       "2   Samsung 40 Inch Full HD Flat LED Digital TV 4...        LG   \n",
       "3          Sharp HD LED TV 24\" - LC-24LE175I - Hitam     Sharp   \n",
       "4  Lenovo Ideapad 130-15AST LAPTOP MULTIMEDIA I A...    Lenovo   \n",
       "\n",
       "                                                 url    price  averageRating  \\\n",
       "0  https://www.lazada.co.id/products/toshiba-smar...  2499000              4   \n",
       "1  https://www.lazada.co.id/products/toshiba-full...  3788000              3   \n",
       "2  https://www.lazada.co.id/products/samsung-40-i...  3850000              3   \n",
       "3  https://www.lazada.co.id/products/sharp-hd-led...  1275000              3   \n",
       "4  https://www.lazada.co.id/products/lenovo-ideap...  3984100              5   \n",
       "\n",
       "   totalReviews retrievedDate  \n",
       "0             8    2019-10-02  \n",
       "1             3    2019-10-02  \n",
       "2             2    2019-10-02  \n",
       "3            11    2019-10-02  \n",
       "4             1    2019-10-02  "
      ]
     },
     "execution_count": 3,
     "metadata": {},
     "output_type": "execute_result"
    }
   ],
   "source": [
    "df.head()"
   ]
  },
  {
   "cell_type": "code",
   "execution_count": 4,
   "metadata": {},
   "outputs": [
    {
     "name": "stdout",
     "output_type": "stream",
     "text": [
      "<class 'pandas.core.frame.DataFrame'>\n",
      "RangeIndex: 10942 entries, 0 to 10941\n",
      "Data columns (total 9 columns):\n",
      " #   Column         Non-Null Count  Dtype \n",
      "---  ------         --------------  ----- \n",
      " 0   itemId         10942 non-null  int64 \n",
      " 1   category       10942 non-null  object\n",
      " 2   name           10942 non-null  object\n",
      " 3   brandName      10940 non-null  object\n",
      " 4   url            10942 non-null  object\n",
      " 5   price          10942 non-null  int64 \n",
      " 6   averageRating  10942 non-null  int64 \n",
      " 7   totalReviews   10942 non-null  int64 \n",
      " 8   retrievedDate  10942 non-null  object\n",
      "dtypes: int64(4), object(5)\n",
      "memory usage: 769.5+ KB\n"
     ]
    }
   ],
   "source": [
    "df.info()"
   ]
  },
  {
   "cell_type": "code",
   "execution_count": 5,
   "metadata": {},
   "outputs": [
    {
     "data": {
      "text/plain": [
       "itemId           4422\n",
       "category            5\n",
       "name             4286\n",
       "brandName         235\n",
       "url              4422\n",
       "price            1861\n",
       "averageRating       5\n",
       "totalReviews      217\n",
       "retrievedDate       1\n",
       "dtype: int64"
      ]
     },
     "execution_count": 5,
     "metadata": {},
     "output_type": "execute_result"
    }
   ],
   "source": [
    "df.nunique()"
   ]
  },
  {
   "cell_type": "code",
   "execution_count": 6,
   "metadata": {},
   "outputs": [
    {
     "data": {
      "text/plain": [
       "itemId           0\n",
       "category         0\n",
       "name             0\n",
       "brandName        2\n",
       "url              0\n",
       "price            0\n",
       "averageRating    0\n",
       "totalReviews     0\n",
       "retrievedDate    0\n",
       "dtype: int64"
      ]
     },
     "execution_count": 6,
     "metadata": {},
     "output_type": "execute_result"
    }
   ],
   "source": [
    "df.isna().sum()"
   ]
  },
  {
   "cell_type": "code",
   "execution_count": 7,
   "metadata": {},
   "outputs": [
    {
     "data": {
      "text/html": [
       "<div>\n",
       "<style scoped>\n",
       "    .dataframe tbody tr th:only-of-type {\n",
       "        vertical-align: middle;\n",
       "    }\n",
       "\n",
       "    .dataframe tbody tr th {\n",
       "        vertical-align: top;\n",
       "    }\n",
       "\n",
       "    .dataframe thead th {\n",
       "        text-align: right;\n",
       "    }\n",
       "</style>\n",
       "<table border=\"1\" class=\"dataframe\">\n",
       "  <thead>\n",
       "    <tr style=\"text-align: right;\">\n",
       "      <th></th>\n",
       "      <th>itemId</th>\n",
       "      <th>category</th>\n",
       "      <th>name</th>\n",
       "      <th>brandName</th>\n",
       "      <th>url</th>\n",
       "      <th>price</th>\n",
       "      <th>averageRating</th>\n",
       "      <th>totalReviews</th>\n",
       "      <th>retrievedDate</th>\n",
       "    </tr>\n",
       "  </thead>\n",
       "  <tbody>\n",
       "    <tr>\n",
       "      <th>324</th>\n",
       "      <td>1063107</td>\n",
       "      <td>beli-harddisk-eksternal</td>\n",
       "      <td>WDC Passport Ultra 1TB External Harddisk Porta...</td>\n",
       "      <td>NaN</td>\n",
       "      <td>https://www.lazada.co.id/products/wdc-passport...</td>\n",
       "      <td>1050000</td>\n",
       "      <td>5</td>\n",
       "      <td>1</td>\n",
       "      <td>2019-10-02</td>\n",
       "    </tr>\n",
       "    <tr>\n",
       "      <th>1249</th>\n",
       "      <td>1663682</td>\n",
       "      <td>beli-harddisk-eksternal</td>\n",
       "      <td>Western Digital My Passport Ultra - 1 TB - Hitam</td>\n",
       "      <td>NaN</td>\n",
       "      <td>https://www.lazada.co.id/products/western-digi...</td>\n",
       "      <td>1450000</td>\n",
       "      <td>5</td>\n",
       "      <td>2</td>\n",
       "      <td>2019-10-02</td>\n",
       "    </tr>\n",
       "  </tbody>\n",
       "</table>\n",
       "</div>"
      ],
      "text/plain": [
       "       itemId                 category  \\\n",
       "324   1063107  beli-harddisk-eksternal   \n",
       "1249  1663682  beli-harddisk-eksternal   \n",
       "\n",
       "                                                   name brandName  \\\n",
       "324   WDC Passport Ultra 1TB External Harddisk Porta...       NaN   \n",
       "1249   Western Digital My Passport Ultra - 1 TB - Hitam       NaN   \n",
       "\n",
       "                                                    url    price  \\\n",
       "324   https://www.lazada.co.id/products/wdc-passport...  1050000   \n",
       "1249  https://www.lazada.co.id/products/western-digi...  1450000   \n",
       "\n",
       "      averageRating  totalReviews retrievedDate  \n",
       "324               5             1    2019-10-02  \n",
       "1249              5             2    2019-10-02  "
      ]
     },
     "execution_count": 7,
     "metadata": {},
     "output_type": "execute_result"
    }
   ],
   "source": [
    "df[df.brandName.isna() == True]"
   ]
  },
  {
   "cell_type": "code",
   "execution_count": 8,
   "metadata": {},
   "outputs": [],
   "source": [
    "df = df[~(df.brandName.isna() == True)]"
   ]
  },
  {
   "cell_type": "code",
   "execution_count": 9,
   "metadata": {},
   "outputs": [
    {
     "name": "stdout",
     "output_type": "stream",
     "text": [
      "<class 'pandas.core.frame.DataFrame'>\n",
      "Int64Index: 10940 entries, 0 to 10941\n",
      "Data columns (total 9 columns):\n",
      " #   Column         Non-Null Count  Dtype \n",
      "---  ------         --------------  ----- \n",
      " 0   itemId         10940 non-null  int64 \n",
      " 1   category       10940 non-null  object\n",
      " 2   name           10940 non-null  object\n",
      " 3   brandName      10940 non-null  object\n",
      " 4   url            10940 non-null  object\n",
      " 5   price          10940 non-null  int64 \n",
      " 6   averageRating  10940 non-null  int64 \n",
      " 7   totalReviews   10940 non-null  int64 \n",
      " 8   retrievedDate  10940 non-null  object\n",
      "dtypes: int64(4), object(5)\n",
      "memory usage: 854.7+ KB\n"
     ]
    }
   ],
   "source": [
    "df.info()"
   ]
  },
  {
   "cell_type": "code",
   "execution_count": 10,
   "metadata": {},
   "outputs": [
    {
     "data": {
      "text/html": [
       "<div>\n",
       "<style scoped>\n",
       "    .dataframe tbody tr th:only-of-type {\n",
       "        vertical-align: middle;\n",
       "    }\n",
       "\n",
       "    .dataframe tbody tr th {\n",
       "        vertical-align: top;\n",
       "    }\n",
       "\n",
       "    .dataframe thead th {\n",
       "        text-align: right;\n",
       "    }\n",
       "</style>\n",
       "<table border=\"1\" class=\"dataframe\">\n",
       "  <thead>\n",
       "    <tr style=\"text-align: right;\">\n",
       "      <th></th>\n",
       "      <th>count</th>\n",
       "      <th>mean</th>\n",
       "      <th>std</th>\n",
       "      <th>min</th>\n",
       "      <th>25%</th>\n",
       "      <th>50%</th>\n",
       "      <th>75%</th>\n",
       "      <th>max</th>\n",
       "    </tr>\n",
       "  </thead>\n",
       "  <tbody>\n",
       "    <tr>\n",
       "      <th>itemId</th>\n",
       "      <td>10940.0</td>\n",
       "      <td>2.937357e+08</td>\n",
       "      <td>2.090385e+08</td>\n",
       "      <td>6068.0</td>\n",
       "      <td>108404196.0</td>\n",
       "      <td>354079192.0</td>\n",
       "      <td>452714093.0</td>\n",
       "      <td>724216967.0</td>\n",
       "    </tr>\n",
       "    <tr>\n",
       "      <th>price</th>\n",
       "      <td>10940.0</td>\n",
       "      <td>3.020542e+06</td>\n",
       "      <td>6.682020e+06</td>\n",
       "      <td>1000.0</td>\n",
       "      <td>79150.0</td>\n",
       "      <td>1095000.0</td>\n",
       "      <td>3959000.0</td>\n",
       "      <td>275000000.0</td>\n",
       "    </tr>\n",
       "    <tr>\n",
       "      <th>averageRating</th>\n",
       "      <td>10940.0</td>\n",
       "      <td>4.171481e+00</td>\n",
       "      <td>1.032089e+00</td>\n",
       "      <td>1.0</td>\n",
       "      <td>4.0</td>\n",
       "      <td>4.0</td>\n",
       "      <td>5.0</td>\n",
       "      <td>5.0</td>\n",
       "    </tr>\n",
       "    <tr>\n",
       "      <th>totalReviews</th>\n",
       "      <td>10940.0</td>\n",
       "      <td>2.737422e+01</td>\n",
       "      <td>2.602774e+02</td>\n",
       "      <td>1.0</td>\n",
       "      <td>1.0</td>\n",
       "      <td>2.0</td>\n",
       "      <td>7.0</td>\n",
       "      <td>9631.0</td>\n",
       "    </tr>\n",
       "  </tbody>\n",
       "</table>\n",
       "</div>"
      ],
      "text/plain": [
       "                 count          mean           std     min          25%  \\\n",
       "itemId         10940.0  2.937357e+08  2.090385e+08  6068.0  108404196.0   \n",
       "price          10940.0  3.020542e+06  6.682020e+06  1000.0      79150.0   \n",
       "averageRating  10940.0  4.171481e+00  1.032089e+00     1.0          4.0   \n",
       "totalReviews   10940.0  2.737422e+01  2.602774e+02     1.0          1.0   \n",
       "\n",
       "                       50%          75%          max  \n",
       "itemId         354079192.0  452714093.0  724216967.0  \n",
       "price            1095000.0    3959000.0  275000000.0  \n",
       "averageRating          4.0          5.0          5.0  \n",
       "totalReviews           2.0          7.0       9631.0  "
      ]
     },
     "execution_count": 10,
     "metadata": {},
     "output_type": "execute_result"
    }
   ],
   "source": [
    "df.describe().T"
   ]
  },
  {
   "cell_type": "code",
   "execution_count": 11,
   "metadata": {},
   "outputs": [
    {
     "data": {
      "text/html": [
       "<div>\n",
       "<style scoped>\n",
       "    .dataframe tbody tr th:only-of-type {\n",
       "        vertical-align: middle;\n",
       "    }\n",
       "\n",
       "    .dataframe tbody tr th {\n",
       "        vertical-align: top;\n",
       "    }\n",
       "\n",
       "    .dataframe thead th {\n",
       "        text-align: right;\n",
       "    }\n",
       "</style>\n",
       "<table border=\"1\" class=\"dataframe\">\n",
       "  <thead>\n",
       "    <tr style=\"text-align: right;\">\n",
       "      <th></th>\n",
       "      <th>itemId</th>\n",
       "      <th>category</th>\n",
       "      <th>name</th>\n",
       "      <th>brandName</th>\n",
       "      <th>url</th>\n",
       "      <th>price</th>\n",
       "      <th>averageRating</th>\n",
       "      <th>totalReviews</th>\n",
       "      <th>retrievedDate</th>\n",
       "    </tr>\n",
       "  </thead>\n",
       "  <tbody>\n",
       "    <tr>\n",
       "      <th>0</th>\n",
       "      <td>100002528</td>\n",
       "      <td>beli-harddisk-eksternal</td>\n",
       "      <td>TOSHIBA Smart HD LED TV 32\" - 32L5650VJ Free B...</td>\n",
       "      <td>Toshiba</td>\n",
       "      <td>https://www.lazada.co.id/products/toshiba-smar...</td>\n",
       "      <td>2499000</td>\n",
       "      <td>4</td>\n",
       "      <td>8</td>\n",
       "      <td>2019-10-02</td>\n",
       "    </tr>\n",
       "    <tr>\n",
       "      <th>1</th>\n",
       "      <td>100003785</td>\n",
       "      <td>beli-harddisk-eksternal</td>\n",
       "      <td>TOSHIBA Full HD Smart LED TV 40\" - 40L5650VJ -...</td>\n",
       "      <td>Toshiba</td>\n",
       "      <td>https://www.lazada.co.id/products/toshiba-full...</td>\n",
       "      <td>3788000</td>\n",
       "      <td>3</td>\n",
       "      <td>3</td>\n",
       "      <td>2019-10-02</td>\n",
       "    </tr>\n",
       "    <tr>\n",
       "      <th>2</th>\n",
       "      <td>100004132</td>\n",
       "      <td>beli-harddisk-eksternal</td>\n",
       "      <td>Samsung 40 Inch Full HD Flat LED Digital TV 4...</td>\n",
       "      <td>LG</td>\n",
       "      <td>https://www.lazada.co.id/products/samsung-40-i...</td>\n",
       "      <td>3850000</td>\n",
       "      <td>3</td>\n",
       "      <td>2</td>\n",
       "      <td>2019-10-02</td>\n",
       "    </tr>\n",
       "    <tr>\n",
       "      <th>3</th>\n",
       "      <td>100004505</td>\n",
       "      <td>beli-harddisk-eksternal</td>\n",
       "      <td>Sharp HD LED TV 24\" - LC-24LE175I - Hitam</td>\n",
       "      <td>Sharp</td>\n",
       "      <td>https://www.lazada.co.id/products/sharp-hd-led...</td>\n",
       "      <td>1275000</td>\n",
       "      <td>3</td>\n",
       "      <td>11</td>\n",
       "      <td>2019-10-02</td>\n",
       "    </tr>\n",
       "    <tr>\n",
       "      <th>4</th>\n",
       "      <td>100005037</td>\n",
       "      <td>beli-harddisk-eksternal</td>\n",
       "      <td>Lenovo Ideapad 130-15AST LAPTOP MULTIMEDIA I A...</td>\n",
       "      <td>Lenovo</td>\n",
       "      <td>https://www.lazada.co.id/products/lenovo-ideap...</td>\n",
       "      <td>3984100</td>\n",
       "      <td>5</td>\n",
       "      <td>1</td>\n",
       "      <td>2019-10-02</td>\n",
       "    </tr>\n",
       "  </tbody>\n",
       "</table>\n",
       "</div>"
      ],
      "text/plain": [
       "      itemId                 category  \\\n",
       "0  100002528  beli-harddisk-eksternal   \n",
       "1  100003785  beli-harddisk-eksternal   \n",
       "2  100004132  beli-harddisk-eksternal   \n",
       "3  100004505  beli-harddisk-eksternal   \n",
       "4  100005037  beli-harddisk-eksternal   \n",
       "\n",
       "                                                name brandName  \\\n",
       "0  TOSHIBA Smart HD LED TV 32\" - 32L5650VJ Free B...   Toshiba   \n",
       "1  TOSHIBA Full HD Smart LED TV 40\" - 40L5650VJ -...   Toshiba   \n",
       "2   Samsung 40 Inch Full HD Flat LED Digital TV 4...        LG   \n",
       "3          Sharp HD LED TV 24\" - LC-24LE175I - Hitam     Sharp   \n",
       "4  Lenovo Ideapad 130-15AST LAPTOP MULTIMEDIA I A...    Lenovo   \n",
       "\n",
       "                                                 url    price  averageRating  \\\n",
       "0  https://www.lazada.co.id/products/toshiba-smar...  2499000              4   \n",
       "1  https://www.lazada.co.id/products/toshiba-full...  3788000              3   \n",
       "2  https://www.lazada.co.id/products/samsung-40-i...  3850000              3   \n",
       "3  https://www.lazada.co.id/products/sharp-hd-led...  1275000              3   \n",
       "4  https://www.lazada.co.id/products/lenovo-ideap...  3984100              5   \n",
       "\n",
       "   totalReviews retrievedDate  \n",
       "0             8    2019-10-02  \n",
       "1             3    2019-10-02  \n",
       "2             2    2019-10-02  \n",
       "3            11    2019-10-02  \n",
       "4             1    2019-10-02  "
      ]
     },
     "execution_count": 11,
     "metadata": {},
     "output_type": "execute_result"
    }
   ],
   "source": [
    "df2 = df.copy()\n",
    "df2.head()"
   ]
  },
  {
   "cell_type": "markdown",
   "metadata": {},
   "source": [
    "# Data Non-Outliers "
   ]
  },
  {
   "cell_type": "markdown",
   "metadata": {},
   "source": [
    "## Hapus outliers "
   ]
  },
  {
   "cell_type": "code",
   "execution_count": 12,
   "metadata": {},
   "outputs": [
    {
     "data": {
      "image/png": "[encoded data removed]",
      "text/plain": [
       "<Figure size 1152x288 with 4 Axes>"
      ]
     },
     "metadata": {
      "needs_background": "light"
     },
     "output_type": "display_data"
    }
   ],
   "source": [
    "fig, axes = plt.subplots(2,2, figsize=(16,4))\n",
    "\n",
    "for i, axes in zip(df.select_dtypes(include = 'number'), axes.flatten()):\n",
    "    sns.boxplot(x = df[i], ax = axes)\n",
    "    plt.tight_layout()"
   ]
  },
  {
   "cell_type": "code",
   "execution_count": 13,
   "metadata": {},
   "outputs": [
    {
     "data": {
      "text/plain": [
       "itemId              0\n",
       "price             750\n",
       "averageRating     859\n",
       "totalReviews     1612\n",
       "dtype: int64"
      ]
     },
     "execution_count": 13,
     "metadata": {},
     "output_type": "execute_result"
    }
   ],
   "source": [
    "Q1 = df.quantile(0.25)\n",
    "Q3 = df.quantile(0.75)\n",
    "\n",
    "IQR = Q3-Q1\n",
    "\n",
    "total_outlier = ((df.select_dtypes(include = 'number') < (Q1 - 1.5 * IQR)) | \n",
    "                 (df.select_dtypes(include = 'number') > (Q3 + 1.5 * IQR))).sum()\n",
    "\n",
    "total_outlier"
   ]
  },
  {
   "cell_type": "code",
   "execution_count": 14,
   "metadata": {},
   "outputs": [
    {
     "data": {
      "text/plain": [
       "(7796, 9)"
      ]
     },
     "execution_count": 14,
     "metadata": {},
     "output_type": "execute_result"
    }
   ],
   "source": [
    "df = df[~((df < (Q1 - 1.5 * IQR)) | (df > (Q3 + 1.5 * IQR))).any(axis = 1)]\n",
    "df.shape"
   ]
  },
  {
   "cell_type": "markdown",
   "metadata": {},
   "source": [
    "## Univariate Analysis"
   ]
  },
  {
   "cell_type": "code",
   "execution_count": 15,
   "metadata": {},
   "outputs": [
    {
     "name": "stdout",
     "output_type": "stream",
     "text": [
      "Numeric Columns : ['itemId', 'price', 'averageRating', 'totalReviews']\n",
      "Categorical Columns : ['category', 'name', 'brandName', 'url', 'retrievedDate']\n"
     ]
    }
   ],
   "source": [
    "numerical_columns = df.select_dtypes(include = 'number').columns.tolist()\n",
    "categorical_columns = df.select_dtypes(include = 'object').columns.tolist()\n",
    "\n",
    "print('Numeric Columns : {}'.format(numerical_columns))\n",
    "print('Categorical Columns : {}'.format(categorical_columns))"
   ]
  },
  {
   "cell_type": "markdown",
   "metadata": {},
   "source": [
    "### Categorical Columns "
   ]
  },
  {
   "cell_type": "code",
   "execution_count": 16,
   "metadata": {},
   "outputs": [],
   "source": [
    "def counting(data, columns):\n",
    "    count = data[columns].value_counts()\n",
    "    percent = 100 * data[columns].value_counts(normalize = True)\n",
    "    df_column = pd.DataFrame({'Jumlah Data':count, 'Percent':percent.round(1)})\n",
    "    count.plot(kind = 'bar', title = columns)\n",
    "    return df_column"
   ]
  },
  {
   "cell_type": "code",
   "execution_count": 17,
   "metadata": {
    "scrolled": false
   },
   "outputs": [
    {
     "name": "stdout",
     "output_type": "stream",
     "text": [
      "                         Jumlah Data  Percent\n",
      "beli-harddisk-eksternal         3232     41.5\n",
      "jual-flash-drives               2364     30.3\n",
      "beli-smart-tv                    888     11.4\n",
      "shop-televisi-digital            855     11.0\n",
      "beli-laptop                      457      5.9\n"
     ]
    },
    {
     "data": {
      "image/png": "[encoded data removed]",
      "text/plain": [
       "<Figure size 432x288 with 1 Axes>"
      ]
     },
     "metadata": {
      "needs_background": "light"
     },
     "output_type": "display_data"
    }
   ],
   "source": [
    "print(counting(df, 'category'))"
   ]
  },
  {
   "cell_type": "markdown",
   "metadata": {},
   "source": [
    "### Numerical Columns "
   ]
  },
  {
   "cell_type": "code",
   "execution_count": 18,
   "metadata": {},
   "outputs": [
    {
     "data": {
      "image/png": "[encoded data removed]",
      "text/plain": [
       "<Figure size 1440x1080 with 4 Axes>"
      ]
     },
     "metadata": {
      "needs_background": "light"
     },
     "output_type": "display_data"
    }
   ],
   "source": [
    "df[['price','averageRating','totalReviews']].hist(bins = 50, figsize=(20,15))\n",
    "plt.show()"
   ]
  },
  {
   "cell_type": "markdown",
   "metadata": {},
   "source": [
    "1. Pada distribusi nilai price, semakin tinggi nilai yang dihasilkan akan menurunkan hasil frequency nilai tersebut\n",
    "2. Total reviews bergerak berbanding lurus dengan nilai price dimana semakin tinggi nilai price. Maka total reviews yang didapatkan semakin tinggi dan sebaliknya.\n",
    "3. Tingginya total reviews dengan nilai price yang kecil menghasilkan nilai rata-rata rating (averageRating) yang menurun.\n",
    "4. Kesimpulan, user lebih menyukai pembelian dengan harga yang lebih kecil namun dengan rata-rata rating yang didapatkan cukup rendah"
   ]
  },
  {
   "cell_type": "markdown",
   "metadata": {},
   "source": [
    "## Multivariate Analysis "
   ]
  },
  {
   "cell_type": "markdown",
   "metadata": {},
   "source": [
    "### Categorical Columns "
   ]
  },
  {
   "cell_type": "code",
   "execution_count": 19,
   "metadata": {},
   "outputs": [
    {
     "data": {
      "text/plain": [
       "<seaborn.axisgrid.FacetGrid at 0x16dc5c3fe50>"
      ]
     },
     "execution_count": 19,
     "metadata": {},
     "output_type": "execute_result"
    },
    {
     "data": {
      "image/png": "[encoded data removed]",
      "text/plain": [
       "<Figure size 1080x360 with 1 Axes>"
      ]
     },
     "metadata": {
      "needs_background": "light"
     },
     "output_type": "display_data"
    }
   ],
   "source": [
    "sns.catplot(x = 'category', y = 'averageRating', data = df, kind = 'bar', aspect = 3, palette = 'Set3')"
   ]
  },
  {
   "cell_type": "markdown",
   "metadata": {},
   "source": [
    "### Numerical columns "
   ]
  },
  {
   "cell_type": "code",
   "execution_count": 20,
   "metadata": {},
   "outputs": [
    {
     "data": {
      "text/plain": [
       "<seaborn.axisgrid.PairGrid at 0x16dc5e154f0>"
      ]
     },
     "execution_count": 20,
     "metadata": {},
     "output_type": "execute_result"
    },
    {
     "data": {
      "image/png": "[encoded data removed]",
      "text/plain": [
       "<Figure size 540x540 with 12 Axes>"
      ]
     },
     "metadata": {
      "needs_background": "light"
     },
     "output_type": "display_data"
    }
   ],
   "source": [
    "sns.pairplot(df[['price','averageRating','totalReviews']], diag_kind = 'kde')"
   ]
  },
  {
   "cell_type": "code",
   "execution_count": 21,
   "metadata": {},
   "outputs": [
    {
     "data": {
      "image/png": "[encoded data removed]",
      "text/plain": [
       "<Figure size 720x576 with 2 Axes>"
      ]
     },
     "metadata": {
      "needs_background": "light"
     },
     "output_type": "display_data"
    }
   ],
   "source": [
    "plt.figure(figsize=(10,8))\n",
    "sns.heatmap(df.corr().round(2), annot = True, annot_kws = {\"fontsize\" : 20}, cmap = 'coolwarm', linewidths = 0.5)\n",
    "plt.show()"
   ]
  },
  {
   "cell_type": "code",
   "execution_count": 22,
   "metadata": {},
   "outputs": [
    {
     "data": {
      "text/html": [
       "<div>\n",
       "<style scoped>\n",
       "    .dataframe tbody tr th:only-of-type {\n",
       "        vertical-align: middle;\n",
       "    }\n",
       "\n",
       "    .dataframe tbody tr th {\n",
       "        vertical-align: top;\n",
       "    }\n",
       "\n",
       "    .dataframe thead th {\n",
       "        text-align: right;\n",
       "    }\n",
       "</style>\n",
       "<table border=\"1\" class=\"dataframe\">\n",
       "  <thead>\n",
       "    <tr style=\"text-align: right;\">\n",
       "      <th></th>\n",
       "      <th>category</th>\n",
       "      <th>price</th>\n",
       "      <th>totalReviews</th>\n",
       "      <th>averageRating</th>\n",
       "    </tr>\n",
       "  </thead>\n",
       "  <tbody>\n",
       "    <tr>\n",
       "      <th>0</th>\n",
       "      <td>beli-harddisk-eksternal</td>\n",
       "      <td>2499000</td>\n",
       "      <td>8</td>\n",
       "      <td>4</td>\n",
       "    </tr>\n",
       "    <tr>\n",
       "      <th>1</th>\n",
       "      <td>beli-harddisk-eksternal</td>\n",
       "      <td>3788000</td>\n",
       "      <td>3</td>\n",
       "      <td>3</td>\n",
       "    </tr>\n",
       "    <tr>\n",
       "      <th>2</th>\n",
       "      <td>beli-harddisk-eksternal</td>\n",
       "      <td>3850000</td>\n",
       "      <td>2</td>\n",
       "      <td>3</td>\n",
       "    </tr>\n",
       "    <tr>\n",
       "      <th>3</th>\n",
       "      <td>beli-harddisk-eksternal</td>\n",
       "      <td>1275000</td>\n",
       "      <td>11</td>\n",
       "      <td>3</td>\n",
       "    </tr>\n",
       "    <tr>\n",
       "      <th>4</th>\n",
       "      <td>beli-harddisk-eksternal</td>\n",
       "      <td>3984100</td>\n",
       "      <td>1</td>\n",
       "      <td>5</td>\n",
       "    </tr>\n",
       "  </tbody>\n",
       "</table>\n",
       "</div>"
      ],
      "text/plain": [
       "                  category    price  totalReviews  averageRating\n",
       "0  beli-harddisk-eksternal  2499000             8              4\n",
       "1  beli-harddisk-eksternal  3788000             3              3\n",
       "2  beli-harddisk-eksternal  3850000             2              3\n",
       "3  beli-harddisk-eksternal  1275000            11              3\n",
       "4  beli-harddisk-eksternal  3984100             1              5"
      ]
     },
     "execution_count": 22,
     "metadata": {},
     "output_type": "execute_result"
    }
   ],
   "source": [
    "df = df[['category','price','totalReviews','averageRating']]\n",
    "df.head()"
   ]
  }
 ],
 "metadata": {
  "kernelspec": {
   "display_name": "Python 3",
   "language": "python",
   "name": "python3"
  },
  "language_info": {
   "codemirror_mode": {
    "name": "ipython",
    "version": 3
   },
   "file_extension": ".py",
   "mimetype": "text/x-python",
   "name": "python",
   "nbconvert_exporter": "python",
   "pygments_lexer": "ipython3",
   "version": "3.8.5"
  }
 },
 "nbformat": 4,
 "nbformat_minor": 4
}
